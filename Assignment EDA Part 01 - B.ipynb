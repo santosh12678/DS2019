{
 "cells": [
  {
   "cell_type": "code",
   "execution_count": 139,
   "metadata": {},
   "outputs": [],
   "source": [
    "#Import Packages \n",
    "\n",
    "import pandas as pd\n",
    "import numpy as np\n",
    "import matplotlib.pyplot as plt\n",
    "import seaborn as sns\n",
    "\n",
    "sns.set_style(\"white\")"
   ]
  },
  {
   "cell_type": "code",
   "execution_count": 140,
   "metadata": {},
   "outputs": [],
   "source": [
    "#Read Data from the CSV \n",
    "#NOTE:- File should be present at the code location\n",
    "raw_allstates_df = pd.read_csv(\"ab40c054-5031-4376-b52e-9813e776f65e.csv\")\n",
    "raw_andhra_df = pd.read_csv(\"NAD-Andhra_Pradesh-GSVA_cur_2016-17.csv\")\n",
    "raw_arunachal_df = pd.read_csv(\"NAD-Arunachal_Pradesh-GSVA_cur_2015-16.csv\")\n",
    "raw_assam_df = pd.read_csv(\"NAD-Assam-GSVA_cur_2015-16.csv\")\n",
    "raw_bihar_df = pd.read_csv(\"NAD-Bihar-GSVA_cur_2015-16.csv\")\n",
    "raw_chhattisgarh_df = pd.read_csv(\"NAD-Chhattisgarh-GSVA_cur_2016-17.csv\")\n",
    "raw_goa_df = pd.read_csv(\"NAD-Goa-GSVA_cur_2015-16.csv\")\n",
    "raw_gujrat_df = pd.read_csv(\"NAD-Gujarat-GSVA_cur_2015-16.csv\")\n",
    "raw_haryana_df = pd.read_csv(\"NAD-Haryana-GSVA_cur_2016-17.csv\")\n",
    "raw_himachal_df = pd.read_csv(\"NAD-Himachal_Pradesh-GSVA_cur_2014-15.csv\")\n",
    "raw_jharkhand_df = pd.read_csv(\"NAD-Jharkhand-GSVA_cur_2015-16.csv\")\n",
    "raw_karnataka_df = pd.read_csv(\"NAD-Karnataka-GSVA_cur_2015-16.csv\")\n",
    "raw_kerala_df = pd.read_csv(\"NAD-Kerala-GSVA_cur_2015-16.csv\")\n",
    "raw_madhya_df = pd.read_csv(\"NAD-Madhya_Pradesh-GSVA_cur_2016-17.csv\")\n",
    "raw_maharashtra_df = pd.read_csv(\"NAD-Maharashtra-GSVA_cur_2014-15.csv\")\n",
    "raw_manipur_df = pd.read_csv(\"./NAD-Manipur-GSVA_cur_2014-15.csv\",encoding = \"ISO-8859-1\")\n",
    "raw_meghalaya_df = pd.read_csv(\"NAD-Meghalaya-GSVA_cur_2016-17.csv\")\n",
    "raw_mizoram_df = pd.read_csv(\"NAD-Mizoram-GSVA_cur_2014-15.csv\")\n",
    "raw_nagaland_df = pd.read_csv(\"NAD-Nagaland-GSVA_cur_2014-15.csv\")\n",
    "raw_odisha_df = pd.read_csv(\"NAD-Odisha-GSVA_cur_2016-17.csv\")\n",
    "raw_punjab_df = pd.read_csv(\"NAD-Punjab-GSVA_cur_2014-15.csv\")\n",
    "raw_rajasthan_df = pd.read_csv(\"NAD-Rajasthan-GSVA_cur_2014-15.csv\")\n",
    "raw_sikkim_df = pd.read_csv(\"NAD-Sikkim-GSVA_cur_2015-16.csv\")\n",
    "raw_tamilnadu_df = pd.read_csv(\"NAD-Tamil_Nadu-GSVA_cur_2016-17.csv\")\n",
    "raw_telangana_df = pd.read_csv(\"NAD-Telangana-GSVA_cur_2016-17.csv\")\n",
    "raw_tripura_df = pd.read_csv(\"NAD-Tripura-GSVA_cur_2014-15.csv\")\n",
    "raw_utterpradesh_df = pd.read_csv(\"NAD-Uttar_Pradesh-GSVA_cur_2015-16.csv\")\n",
    "raw_uttarakhand_df = pd.read_csv(\"NAD-Uttarakhand-GSVA_cur_2015-16.csv\")"
   ]
  },
  {
   "cell_type": "code",
   "execution_count": 141,
   "metadata": {},
   "outputs": [],
   "source": [
    "#Select Only 2014-15 Data from all the states\n",
    "data_2k14_15 = raw_allstates_df['Duration'] == '2014-15'\n",
    "allstates_2k14_15 = raw_allstates_df[data_2k14_15]"
   ]
  },
  {
   "cell_type": "code",
   "execution_count": 142,
   "metadata": {},
   "outputs": [],
   "source": [
    "#Drop Duration Column as it not requried now because we are now only analysing the 2014-15 data\n",
    "allstates_2k14_15.drop(['Duration'],axis=1,inplace =True)"
   ]
  },
  {
   "cell_type": "code",
   "execution_count": 143,
   "metadata": {},
   "outputs": [
    {
     "data": {
      "text/plain": [
       "Index(['Items  Description', 'Andhra Pradesh ', 'Arunachal Pradesh', 'Assam',\n",
       "       'Bihar', 'Chhattisgarh', 'Goa', 'Gujarat', 'Haryana',\n",
       "       'Himachal Pradesh', 'Jammu & Kashmir', 'Jharkhand', 'Karnataka',\n",
       "       'Kerala', 'Madhya Pradesh', 'Maharashtra', 'Manipur', 'Meghalaya',\n",
       "       'Mizoram', 'Nagaland', 'Odisha', 'Punjab', 'Rajasthan', 'Sikkim',\n",
       "       'Tamil Nadu', 'Telangana', 'Tripura', 'Uttar Pradesh', 'Uttarakhand',\n",
       "       'West Bengal1', 'Andaman & Nicobar Islands', 'Chandigarh', 'Delhi',\n",
       "       'Puducherry', 'All_India GDP'],\n",
       "      dtype='object')"
      ]
     },
     "execution_count": 143,
     "metadata": {},
     "output_type": "execute_result"
    }
   ],
   "source": [
    "allstates_2k14_15.columns"
   ]
  },
  {
   "cell_type": "code",
   "execution_count": 144,
   "metadata": {},
   "outputs": [],
   "source": [
    "#Filer out the Union Territories like from the all the allstates raw dataframe\n",
    "\n",
    "allstates_2k14_15.drop(['Chandigarh','Delhi','Puducherry','Andaman & Nicobar Islands'],axis =1, inplace =True)"
   ]
  },
  {
   "cell_type": "code",
   "execution_count": 145,
   "metadata": {},
   "outputs": [
    {
     "data": {
      "text/html": [
       "<div>\n",
       "<style scoped>\n",
       "    .dataframe tbody tr th:only-of-type {\n",
       "        vertical-align: middle;\n",
       "    }\n",
       "\n",
       "    .dataframe tbody tr th {\n",
       "        vertical-align: top;\n",
       "    }\n",
       "\n",
       "    .dataframe thead th {\n",
       "        text-align: right;\n",
       "    }\n",
       "</style>\n",
       "<table border=\"1\" class=\"dataframe\">\n",
       "  <thead>\n",
       "    <tr style=\"text-align: right;\">\n",
       "      <th></th>\n",
       "      <th>Items  Description</th>\n",
       "      <th>Andhra Pradesh</th>\n",
       "      <th>Arunachal Pradesh</th>\n",
       "      <th>Assam</th>\n",
       "      <th>Bihar</th>\n",
       "      <th>Chhattisgarh</th>\n",
       "      <th>Goa</th>\n",
       "      <th>Gujarat</th>\n",
       "      <th>Haryana</th>\n",
       "      <th>Himachal Pradesh</th>\n",
       "      <th>...</th>\n",
       "      <th>Punjab</th>\n",
       "      <th>Rajasthan</th>\n",
       "      <th>Sikkim</th>\n",
       "      <th>Tamil Nadu</th>\n",
       "      <th>Telangana</th>\n",
       "      <th>Tripura</th>\n",
       "      <th>Uttar Pradesh</th>\n",
       "      <th>Uttarakhand</th>\n",
       "      <th>West Bengal1</th>\n",
       "      <th>All_India GDP</th>\n",
       "    </tr>\n",
       "  </thead>\n",
       "  <tbody>\n",
       "    <tr>\n",
       "      <th>3</th>\n",
       "      <td>GSDP - CURRENT PRICES (` in Crore)</td>\n",
       "      <td>526468.0</td>\n",
       "      <td>16761.00</td>\n",
       "      <td>198098.00</td>\n",
       "      <td>373920.00</td>\n",
       "      <td>234982.00</td>\n",
       "      <td>40633.00</td>\n",
       "      <td>895027.00</td>\n",
       "      <td>437462.00</td>\n",
       "      <td>104369.00</td>\n",
       "      <td>...</td>\n",
       "      <td>368011.00</td>\n",
       "      <td>612194.00</td>\n",
       "      <td>15209.00</td>\n",
       "      <td>1092564.00</td>\n",
       "      <td>511178.00</td>\n",
       "      <td>29667.00</td>\n",
       "      <td>1043371.00</td>\n",
       "      <td>161985.00</td>\n",
       "      <td>NaN</td>\n",
       "      <td>12433749.00</td>\n",
       "    </tr>\n",
       "    <tr>\n",
       "      <th>8</th>\n",
       "      <td>(% Growth over previous year)</td>\n",
       "      <td>13.4</td>\n",
       "      <td>14.79</td>\n",
       "      <td>11.45</td>\n",
       "      <td>17.92</td>\n",
       "      <td>13.69</td>\n",
       "      <td>13.12</td>\n",
       "      <td>10.82</td>\n",
       "      <td>9.18</td>\n",
       "      <td>10.14</td>\n",
       "      <td>...</td>\n",
       "      <td>9.95</td>\n",
       "      <td>11.37</td>\n",
       "      <td>9.72</td>\n",
       "      <td>12.51</td>\n",
       "      <td>13.05</td>\n",
       "      <td>15.92</td>\n",
       "      <td>10.51</td>\n",
       "      <td>8.12</td>\n",
       "      <td>NaN</td>\n",
       "      <td>10.65</td>\n",
       "    </tr>\n",
       "  </tbody>\n",
       "</table>\n",
       "<p>2 rows × 31 columns</p>\n",
       "</div>"
      ],
      "text/plain": [
       "                   Items  Description  Andhra Pradesh   Arunachal Pradesh  \\\n",
       "3  GSDP - CURRENT PRICES (` in Crore)         526468.0           16761.00   \n",
       "8       (% Growth over previous year)             13.4              14.79   \n",
       "\n",
       "       Assam      Bihar  Chhattisgarh       Goa    Gujarat    Haryana  \\\n",
       "3  198098.00  373920.00     234982.00  40633.00  895027.00  437462.00   \n",
       "8      11.45      17.92         13.69     13.12      10.82       9.18   \n",
       "\n",
       "   Himachal Pradesh  ...     Punjab  Rajasthan    Sikkim  Tamil Nadu  \\\n",
       "3         104369.00  ...  368011.00  612194.00  15209.00  1092564.00   \n",
       "8             10.14  ...       9.95      11.37      9.72       12.51   \n",
       "\n",
       "   Telangana   Tripura  Uttar Pradesh  Uttarakhand  West Bengal1  \\\n",
       "3  511178.00  29667.00     1043371.00    161985.00           NaN   \n",
       "8      13.05     15.92          10.51         8.12           NaN   \n",
       "\n",
       "   All_India GDP  \n",
       "3    12433749.00  \n",
       "8          10.65  \n",
       "\n",
       "[2 rows x 31 columns]"
      ]
     },
     "execution_count": 145,
     "metadata": {},
     "output_type": "execute_result"
    }
   ],
   "source": [
    "allstates_2k14_15"
   ]
  },
  {
   "cell_type": "code",
   "execution_count": 146,
   "metadata": {},
   "outputs": [],
   "source": [
    "#Select Only Item and 2014- 15 from state wise data\n",
    "\n",
    "andhra_2k14_15_df= raw_andhra_df[['Item', '2014-15']]\n",
    "arunachal_2k14_15_df= raw_arunachal_df[['Item', '2014-15']] \n",
    "assam_2k14_15_df= raw_assam_df[['Item', '2014-15']] \n",
    "bihar_2k14_15_df= raw_bihar_df[['Item', '2014-15']]\n",
    "chattisgarh_2k14_15_df= raw_chhattisgarh_df[['Item', '2014-15']]\n",
    "goa_2k14_15_df= raw_goa_df[['Item', '2014-15']] \n",
    "gujrat_2k14_15_df= raw_gujrat_df[['Item', '2014-15']]\n",
    "haryana_2k14_15_df= raw_haryana_df[['Item', '2014-15']] \n",
    "himachal_2k14_15_df= raw_himachal_df[['Item', '2014-15']]\n",
    "jharkhand_2k14_15_df= raw_jharkhand_df[['Item', '2014-15']]\n",
    "karnataka_2k14_15_df= raw_karnataka_df[['Item', '2014-15']]\n",
    "kerala_2k14_15_df= raw_kerala_df[['Item', '2014-15']] \n",
    "madhya_2k14_15_df= raw_madhya_df[['Item', '2014-15']]\n",
    "maharashtra_2k14_15_df= raw_maharashtra_df[['Item', '2014-15']]\n",
    "manipur_2k14_15_df= raw_manipur_df[['Item', '2014-15']] \n",
    "meghalaya_2k14_15_df= raw_meghalaya_df[['Item', '2014-15']]\n",
    "mizoram_2k14_15_df= raw_mizoram_df[['Item', '2014-15']]\n",
    "nagaland_2k14_15_df= raw_nagaland_df[['Item', '2014-15']]\n",
    "odisha_2k14_15_df= raw_odisha_df[['Item', '2014-15']]\n",
    "punjab_2k14_15_df= raw_punjab_df[['Item', '2014-15']]\n",
    "rajasthan_2k14_15_df= raw_rajasthan_df[['Item', '2014-15']] \n",
    "sikkim_2k14_15_df= raw_sikkim_df[['Item', '2014-15']]\n",
    "tamilnadu_2k14_15_df= raw_tamilnadu_df[['Item', '2014-15']]\n",
    "telangana_2k14_15_df= raw_telangana_df[['Item', '2014-15']]\n",
    "tripura_2k14_15_df= raw_tripura_df[['Item', '2014-15']]\n",
    "utterpradesh_2k14_15_df= raw_utterpradesh_df[['Item', '2014-15']]\n",
    "uttarakhand_2k14_15_df= raw_uttarakhand_df[['Item', '2014-15']]"
   ]
  },
  {
   "cell_type": "code",
   "execution_count": 150,
   "metadata": {},
   "outputs": [],
   "source": [
    "#Column Rename for merging \n",
    "andhra_2k14_15_df.columns = ['Items  Description', 'Andhra Pradesh ']\n",
    "arunachal_2k14_15_df.columns =['Items  Description', 'Arunachal Pradesh']\n",
    "assam_2k14_15_df.columns =['Items  Description','Assam']\n",
    "bihar_2k14_15_df.columns =['Items  Description', 'Bihar']\n",
    "chattisgarh_2k14_15_df.columns =['Items  Description', 'Chhattisgarh']\n",
    "goa_2k14_15_df.columns =['Items  Description', 'Goa']\n",
    "gujrat_2k14_15_df.columns =['Items  Description', 'Gujarat']\n",
    "haryana_2k14_15_df.columns =['Items  Description', 'Haryana']\n",
    "himachal_2k14_15_df.columns =['Items  Description', 'Himachal Pradesh']\n",
    "jharkhand_2k14_15_df.columns =['Items  Description', 'Jharkhand']\n",
    "karnataka_2k14_15_df.columns =['Items  Description', 'Karnataka']\n",
    "kerala_2k14_15_df.columns =['Items  Description', 'Kerala']\n",
    "madhya_2k14_15_df.columns =['Items  Description', 'Madhya Pradesh']\n",
    "maharashtra_2k14_15_df.columns =['Items  Description', 'Maharashtra']\n",
    "manipur_2k14_15_df.columns =['Items  Description', 'Manipur']\n",
    "meghalaya_2k14_15_df.columns =['Items  Description', 'Meghalaya']\n",
    "mizoram_2k14_15_df.columns =['Items  Description', 'Mizoram']\n",
    "nagaland_2k14_15_df.columns =['Items  Description', 'Nagaland']\n",
    "odisha_2k14_15_df.columns =['Items  Description', 'Odisha']\n",
    "punjab_2k14_15_df.columns =['Items  Description', 'Punjab']\n",
    "rajasthan_2k14_15_df.columns =['Items  Description', 'Rajasthan']\n",
    "sikkim_2k14_15_df.columns =['Items  Description', 'Sikkim']\n",
    "tamilnadu_2k14_15_df.columns =['Items  Description', 'Tamil Nadu']\n",
    "telangana_2k14_15_df.columns =['Items  Description', 'Telangana']\n",
    "tripura_2k14_15_df.columns =['Items  Description', 'Tripura']\n",
    "utterpradesh_2k14_15_df.columns =['Items  Description', 'Uttar Pradesh']\n",
    "uttarakhand_2k14_15_df.columns =['Items  Description', 'Uttarakhand']"
   ]
  },
  {
   "cell_type": "code",
   "execution_count": 151,
   "metadata": {},
   "outputs": [],
   "source": [
    "df_1 = pd.merge(andhra_2k14_15_df, arunachal_2k14_15_df, how ='inner', on='Items  Description' )\n",
    "df_2 = pd.merge(df_1, assam_2k14_15_df, how ='inner', on='Items  Description' )\n",
    "df_3 = pd.merge(df_2, bihar_2k14_15_df, how ='inner', on='Items  Description' )\n",
    "df_4 = pd.merge(df_3, chattisgarh_2k14_15_df, how ='inner', on='Items  Description' )\n",
    "df_5 = pd.merge(df_4, goa_2k14_15_df, how ='inner', on='Items  Description' )\n",
    "df_6 = pd.merge(df_5, gujrat_2k14_15_df, how ='inner', on='Items  Description' )\n",
    "df_7 = pd.merge(df_6, haryana_2k14_15_df, how ='inner', on='Items  Description' )\n",
    "df_8 = pd.merge(df_7, himachal_2k14_15_df, how ='inner', on='Items  Description' )\n",
    "df_9 = pd.merge(df_8, jharkhand_2k14_15_df, how ='inner', on='Items  Description' )\n",
    "df_10 = pd.merge(df_9, karnataka_2k14_15_df, how ='inner', on='Items  Description' )\n",
    "df_11 = pd.merge(df_10, kerala_2k14_15_df, how ='inner', on='Items  Description' )\n",
    "df_12 = pd.merge(df_11, madhya_2k14_15_df, how ='inner', on='Items  Description' )\n",
    "df_13 = pd.merge(df_12, maharashtra_2k14_15_df, how ='inner', on='Items  Description' )\n",
    "df_14 = pd.merge(df_13, manipur_2k14_15_df, how ='inner', on='Items  Description' )\n",
    "df_15 = pd.merge(df_14, meghalaya_2k14_15_df, how ='inner', on='Items  Description' )\n",
    "df_16 = pd.merge(df_15, mizoram_2k14_15_df, how ='inner', on='Items  Description' )\n",
    "df_17 = pd.merge(df_16, nagaland_2k14_15_df, how ='inner', on='Items  Description' )\n",
    "df_18 = pd.merge(df_17, odisha_2k14_15_df, how ='inner', on='Items  Description' )\n",
    "df_19 = pd.merge(df_18, punjab_2k14_15_df, how ='inner', on='Items  Description' )\n",
    "df_20 = pd.merge(df_19, rajasthan_2k14_15_df, how ='inner', on='Items  Description' )\n",
    "df_21 = pd.merge(df_20, sikkim_2k14_15_df, how ='inner', on='Items  Description' )\n",
    "df_22 = pd.merge(df_21, tamilnadu_2k14_15_df, how ='inner', on='Items  Description' )\n",
    "df_23 = pd.merge(df_22, telangana_2k14_15_df, how ='inner', on='Items  Description' )\n",
    "df_24 = pd.merge(df_23, tripura_2k14_15_df, how ='inner', on='Items  Description' )\n",
    "df_25 = pd.merge(df_24, utterpradesh_2k14_15_df, how ='inner', on='Items  Description' )\n",
    "final_merged_all_states_df = pd.merge(df_25, uttarakhand_2k14_15_df, how ='inner', on='Items  Description' )\n",
    "\n"
   ]
  },
  {
   "cell_type": "code",
   "execution_count": 153,
   "metadata": {},
   "outputs": [
    {
     "data": {
      "text/html": [
       "<div>\n",
       "<style scoped>\n",
       "    .dataframe tbody tr th:only-of-type {\n",
       "        vertical-align: middle;\n",
       "    }\n",
       "\n",
       "    .dataframe tbody tr th {\n",
       "        vertical-align: top;\n",
       "    }\n",
       "\n",
       "    .dataframe thead th {\n",
       "        text-align: right;\n",
       "    }\n",
       "</style>\n",
       "<table border=\"1\" class=\"dataframe\">\n",
       "  <thead>\n",
       "    <tr style=\"text-align: right;\">\n",
       "      <th></th>\n",
       "      <th>Items  Description</th>\n",
       "      <th>Andhra Pradesh</th>\n",
       "      <th>Arunachal Pradesh</th>\n",
       "      <th>Assam</th>\n",
       "      <th>Bihar</th>\n",
       "      <th>Chhattisgarh</th>\n",
       "      <th>Goa</th>\n",
       "      <th>Gujarat</th>\n",
       "      <th>Haryana</th>\n",
       "      <th>Himachal Pradesh</th>\n",
       "      <th>...</th>\n",
       "      <th>Nagaland</th>\n",
       "      <th>Odisha</th>\n",
       "      <th>Punjab</th>\n",
       "      <th>Rajasthan</th>\n",
       "      <th>Sikkim</th>\n",
       "      <th>Tamil Nadu</th>\n",
       "      <th>Telangana</th>\n",
       "      <th>Tripura</th>\n",
       "      <th>Uttar Pradesh</th>\n",
       "      <th>Uttarakhand</th>\n",
       "    </tr>\n",
       "  </thead>\n",
       "  <tbody>\n",
       "    <tr>\n",
       "      <th>0</th>\n",
       "      <td>Agriculture, forestry and fishing</td>\n",
       "      <td>14819416</td>\n",
       "      <td>686117</td>\n",
       "      <td>3855548</td>\n",
       "      <td>7951890</td>\n",
       "      <td>3948847</td>\n",
       "      <td>308507</td>\n",
       "      <td>13769969.0</td>\n",
       "      <td>8015238.0</td>\n",
       "      <td>1514981</td>\n",
       "      <td>...</td>\n",
       "      <td>607897</td>\n",
       "      <td>6422978</td>\n",
       "      <td>9285716</td>\n",
       "      <td>15044394</td>\n",
       "      <td>137447</td>\n",
       "      <td>13064238</td>\n",
       "      <td>7591501</td>\n",
       "      <td>799825.0</td>\n",
       "      <td>25097754</td>\n",
       "      <td>1601423.0</td>\n",
       "    </tr>\n",
       "    <tr>\n",
       "      <th>1</th>\n",
       "      <td>Crops</td>\n",
       "      <td>7893514</td>\n",
       "      <td>415520</td>\n",
       "      <td>2890544</td>\n",
       "      <td>4688237</td>\n",
       "      <td>2613371</td>\n",
       "      <td>140421</td>\n",
       "      <td>9671086.0</td>\n",
       "      <td>4636731.0</td>\n",
       "      <td>853758</td>\n",
       "      <td>...</td>\n",
       "      <td>375825</td>\n",
       "      <td>4382636</td>\n",
       "      <td>5690972</td>\n",
       "      <td>7673441</td>\n",
       "      <td>114976</td>\n",
       "      <td>7297820</td>\n",
       "      <td>4162493</td>\n",
       "      <td>397591.0</td>\n",
       "      <td>16215212</td>\n",
       "      <td>866146.0</td>\n",
       "    </tr>\n",
       "    <tr>\n",
       "      <th>2</th>\n",
       "      <td>Livestock</td>\n",
       "      <td>4309078</td>\n",
       "      <td>38387</td>\n",
       "      <td>173478</td>\n",
       "      <td>2060296</td>\n",
       "      <td>352208</td>\n",
       "      <td>30141</td>\n",
       "      <td>2698910.0</td>\n",
       "      <td>2916173.0</td>\n",
       "      <td>110304</td>\n",
       "      <td>...</td>\n",
       "      <td>123800</td>\n",
       "      <td>788243</td>\n",
       "      <td>2638842</td>\n",
       "      <td>5356257</td>\n",
       "      <td>17338</td>\n",
       "      <td>4693361</td>\n",
       "      <td>2951299</td>\n",
       "      <td>88176.0</td>\n",
       "      <td>7096876</td>\n",
       "      <td>391188.0</td>\n",
       "    </tr>\n",
       "    <tr>\n",
       "      <th>3</th>\n",
       "      <td>Forestry and logging</td>\n",
       "      <td>346160</td>\n",
       "      <td>224017</td>\n",
       "      <td>261987</td>\n",
       "      <td>550132</td>\n",
       "      <td>597785</td>\n",
       "      <td>15744</td>\n",
       "      <td>761616.0</td>\n",
       "      <td>352254.0</td>\n",
       "      <td>540950</td>\n",
       "      <td>...</td>\n",
       "      <td>99802</td>\n",
       "      <td>791463</td>\n",
       "      <td>848245</td>\n",
       "      <td>1956660</td>\n",
       "      <td>4529</td>\n",
       "      <td>392705</td>\n",
       "      <td>210741</td>\n",
       "      <td>145096.0</td>\n",
       "      <td>1404936</td>\n",
       "      <td>339293.0</td>\n",
       "    </tr>\n",
       "    <tr>\n",
       "      <th>4</th>\n",
       "      <td>Fishing and aquaculture</td>\n",
       "      <td>2270664</td>\n",
       "      <td>8193</td>\n",
       "      <td>529539</td>\n",
       "      <td>653224</td>\n",
       "      <td>385483</td>\n",
       "      <td>122201</td>\n",
       "      <td>638357.0</td>\n",
       "      <td>110080.0</td>\n",
       "      <td>9968</td>\n",
       "      <td>...</td>\n",
       "      <td>8470</td>\n",
       "      <td>460636</td>\n",
       "      <td>107657</td>\n",
       "      <td>58036</td>\n",
       "      <td>604</td>\n",
       "      <td>680352</td>\n",
       "      <td>266968</td>\n",
       "      <td>168961.0</td>\n",
       "      <td>380730</td>\n",
       "      <td>4796.0</td>\n",
       "    </tr>\n",
       "  </tbody>\n",
       "</table>\n",
       "<p>5 rows × 28 columns</p>\n",
       "</div>"
      ],
      "text/plain": [
       "                  Items  Description  Andhra Pradesh   Arunachal Pradesh  \\\n",
       "0  Agriculture, forestry and fishing         14819416             686117   \n",
       "1                              Crops          7893514             415520   \n",
       "2                          Livestock          4309078              38387   \n",
       "3               Forestry and logging           346160             224017   \n",
       "4            Fishing and aquaculture          2270664               8193   \n",
       "\n",
       "     Assam    Bihar  Chhattisgarh     Goa     Gujarat    Haryana  \\\n",
       "0  3855548  7951890       3948847  308507  13769969.0  8015238.0   \n",
       "1  2890544  4688237       2613371  140421   9671086.0  4636731.0   \n",
       "2   173478  2060296        352208   30141   2698910.0  2916173.0   \n",
       "3   261987   550132        597785   15744    761616.0   352254.0   \n",
       "4   529539   653224        385483  122201    638357.0   110080.0   \n",
       "\n",
       "   Himachal Pradesh  ...  Nagaland   Odisha   Punjab  Rajasthan  Sikkim  \\\n",
       "0           1514981  ...    607897  6422978  9285716   15044394  137447   \n",
       "1            853758  ...    375825  4382636  5690972    7673441  114976   \n",
       "2            110304  ...    123800   788243  2638842    5356257   17338   \n",
       "3            540950  ...     99802   791463   848245    1956660    4529   \n",
       "4              9968  ...      8470   460636   107657      58036     604   \n",
       "\n",
       "   Tamil Nadu  Telangana   Tripura  Uttar Pradesh  Uttarakhand  \n",
       "0    13064238    7591501  799825.0       25097754    1601423.0  \n",
       "1     7297820    4162493  397591.0       16215212     866146.0  \n",
       "2     4693361    2951299   88176.0        7096876     391188.0  \n",
       "3      392705     210741  145096.0        1404936     339293.0  \n",
       "4      680352     266968  168961.0         380730       4796.0  \n",
       "\n",
       "[5 rows x 28 columns]"
      ]
     },
     "execution_count": 153,
     "metadata": {},
     "output_type": "execute_result"
    }
   ],
   "source": [
    "final_merged_all_states_df.head()"
   ]
  },
  {
   "cell_type": "code",
   "execution_count": 154,
   "metadata": {},
   "outputs": [],
   "source": [
    "all_states_detail_df = allstates_2k14_15.append(final_merged_all_states_df,sort=False)"
   ]
  },
  {
   "cell_type": "code",
   "execution_count": 162,
   "metadata": {},
   "outputs": [],
   "source": [
    "all_states_detail_df= all_states_detail_df.set_index('Items  Description')\n",
    "\n",
    "all_states_detail_trasposed_df = all_states_detail_df.transpose()"
   ]
  },
  {
   "cell_type": "code",
   "execution_count": 169,
   "metadata": {},
   "outputs": [
    {
     "data": {
      "text/plain": [
       "Index(['GSDP - CURRENT PRICES (` in Crore)', '(% Growth over previous year)',\n",
       "       'Agriculture, forestry and fishing', 'Crops', 'Livestock',\n",
       "       'Forestry and logging', 'Fishing and aquaculture',\n",
       "       'Mining and quarrying', 'Primary', 'Manufacturing',\n",
       "       'Electricity, gas, water supply & other utility services',\n",
       "       'Construction', 'Secondary', 'Trade, repair, hotels and restaurants',\n",
       "       'Hotels & restaurants',\n",
       "       'Transport, storage, communication & services related to broadcasting',\n",
       "       'Railways', 'Water transport', 'Air transport', 'Storage',\n",
       "       'Communication & services related to broadcasting',\n",
       "       'Financial services',\n",
       "       'Real estate, ownership of dwelling & professional services',\n",
       "       'Public administration', 'Other services', 'Tertiary',\n",
       "       'TOTAL GSVA at basic prices', 'Taxes on Products',\n",
       "       'Subsidies on products', 'Gross State Domestic Product',\n",
       "       'Population ('00)', 'Per Capita GSDP (Rs.)'],\n",
       "      dtype='object', name='Items  Description')"
      ]
     },
     "execution_count": 169,
     "metadata": {},
     "output_type": "execute_result"
    }
   ],
   "source": [
    "all_states_detail_trasposed_df.columns"
   ]
  },
  {
   "cell_type": "code",
   "execution_count": 170,
   "metadata": {},
   "outputs": [],
   "source": [
    "all_states_detail_trasposed_df.drop(['Jammu & Kashmir', 'All_India GDP','West Bengal1'], axis =0, inplace =True)"
   ]
  },
  {
   "cell_type": "code",
   "execution_count": 171,
   "metadata": {},
   "outputs": [],
   "source": [
    "all_states_detail_trasposed_df.sort_values(by =['Per Capita GSDP (Rs.)'],ascending = False,inplace=True)"
   ]
  },
  {
   "cell_type": "code",
   "execution_count": 175,
   "metadata": {},
   "outputs": [
    {
     "data": {
      "image/png": "[encoded data removed]",
      "text/plain": [
       "<Figure size 960x640 with 1 Axes>"
      ]
     },
     "metadata": {},
     "output_type": "display_data"
    }
   ],
   "source": [
    "plt.figure(figsize=(12,8), dpi =80, facecolor ='w', edgecolor='k')\n",
    "\n",
    "barplot = sns.barplot(x=all_states_detail_trasposed_df.index, y = all_states_detail_trasposed_df['Per Capita GSDP (Rs.)'])\n",
    "\n",
    "barplot.set_xticklabels(all_states_detail_trasposed_df.index,rotation=90)\n",
    "\n",
    "plt.ylabel(\"GDP Per Capita\")\n",
    "plt.xlabel(\"States\")\n",
    "plt.title(\"GDP per capita of different states in 2014-15\")\n",
    "\n",
    "plt.show()"
   ]
  },
  {
   "cell_type": "code",
   "execution_count": 207,
   "metadata": {},
   "outputs": [
    {
     "name": "stdout",
     "output_type": "stream",
     "text": [
      "271793.0\n",
      "33954.0\n"
     ]
    }
   ],
   "source": [
    "highest_GDP_per_capita = all_states_detail_trasposed_df['Per Capita GSDP (Rs.)'].values.max()\n",
    "print(highest_GDP_per_capita)\n",
    "minimum_GDP_per_capita = highest_GDP = all_states_detail_trasposed_df['Per Capita GSDP (Rs.)'].values.min()\n",
    "print(minimum_GDP_per_capita)"
   ]
  },
  {
   "cell_type": "code",
   "execution_count": 215,
   "metadata": {},
   "outputs": [
    {
     "name": "stdout",
     "output_type": "stream",
     "text": [
      "8.00\n"
     ]
    }
   ],
   "source": [
    "float_formatter = lambda x: \"%.2f\" % x\n",
    "ratio = float_formatter(highest_GDP_per_capita/minimum_GDP_per_capita)\n",
    "print(ratio)"
   ]
  },
  {
   "cell_type": "markdown",
   "metadata": {},
   "source": [
    "The Ratio is 8:1\n"
   ]
  },
  {
   "cell_type": "code",
   "execution_count": null,
   "metadata": {},
   "outputs": [],
   "source": []
  },
  {
   "cell_type": "code",
   "execution_count": null,
   "metadata": {},
   "outputs": [],
   "source": []
  },
  {
   "cell_type": "code",
   "execution_count": 224,
   "metadata": {},
   "outputs": [],
   "source": [
    "all_states_detail_df['Total Contibution'] = all_states_detail_df.sum(axis=1)\n"
   ]
  },
  {
   "cell_type": "code",
   "execution_count": null,
   "metadata": {},
   "outputs": [],
   "source": []
  },
  {
   "cell_type": "code",
   "execution_count": 238,
   "metadata": {},
   "outputs": [],
   "source": [
    "all_states_detail_df"
   ]
  },
  {
   "cell_type": "code",
   "execution_count": 235,
   "metadata": {},
   "outputs": [
    {
     "data": {
      "text/plain": [
       "151938129.04"
      ]
     },
     "execution_count": 235,
     "metadata": {},
     "output_type": "execute_result"
    }
   ],
   "source": []
  },
  {
   "cell_type": "code",
   "execution_count": 237,
   "metadata": {},
   "outputs": [
    {
     "data": {
      "image/png": "[encoded data removed]",
      "text/plain": [
       "<Figure size 432x288 with 1 Axes>"
      ]
     },
     "metadata": {},
     "output_type": "display_data"
    }
   ],
   "source": [
    "# pie chart of workers\n",
    "labels = ['Primary', 'Secondary', 'Tertiary', 'Others']\n",
    "sizes = [all_states_detail_df.loc[\"Primary\",\"Total Contibution\"],\n",
    "         all_states_detail_df.loc[\"Secondary\",\"Total Contibution\"],\n",
    "         all_states_detail_df.loc[\"Tertiary\",\"Total Contibution\"],\n",
    "         all_states_detail_df.loc[\"Taxes on Products\",\"Total Contibution\"] + all_states_detail_df.loc[\"Subsidies on products\",\"Total Contibution\"]\n",
    "       \n",
    "        ]\n",
    "# print(sizes) # adds up to 1433, which is the total number of participants\n",
    "fig1, ax1 = plt.subplots()\n",
    "ax1.pie(sizes, labels=labels, autopct='%1.1f%%', shadow=True)\n",
    "ax1.axis('equal')\n",
    "plt.show()"
   ]
  },
  {
   "cell_type": "code",
   "execution_count": null,
   "metadata": {},
   "outputs": [],
   "source": []
  }
 ],
 "metadata": {
  "kernelspec": {
   "display_name": "Python 3",
   "language": "python",
   "name": "python3"
  },
  "language_info": {
   "codemirror_mode": {
    "name": "ipython",
    "version": 3
   },
   "file_extension": ".py",
   "mimetype": "text/x-python",
   "name": "python",
   "nbconvert_exporter": "python",
   "pygments_lexer": "ipython3",
   "version": "3.7.3"
  }
 },
 "nbformat": 4,
 "nbformat_minor": 2
}
